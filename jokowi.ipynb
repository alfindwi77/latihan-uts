{
 "cells": [
  {
   "cell_type": "code",
   "execution_count": 1,
   "id": "2f9cd560",
   "metadata": {},
   "outputs": [
    {
     "name": "stdout",
     "output_type": "stream",
     "text": [
      "hidup human\n"
     ]
    }
   ],
   "source": [
    "print(\"hidup human\")"
   ]
  },
  {
   "cell_type": "code",
   "execution_count": 2,
   "id": "d21dd85e",
   "metadata": {},
   "outputs": [
    {
     "name": "stdout",
     "output_type": "stream",
     "text": [
      "nama: kurniawan\n",
      "nim: 20240801292\n",
      "total semua nim: 30\n"
     ]
    }
   ],
   "source": [
    "nama = \"kurniawan\"\n",
    "nim = \"20240801292\"\n",
    "total = sum(int(digit) for digit in nim)\n",
    "\n",
    "print(\"nama:\", nama)\n",
    "print(\"nim:\", nim)\n",
    "print(\"total semua nim:\", total)"
   ]
  },
  {
   "cell_type": "code",
   "execution_count": 3,
   "id": "b1dbc0b7",
   "metadata": {},
   "outputs": [
    {
     "name": "stdout",
     "output_type": "stream",
     "text": [
      "kamu sudah cukup umur\n"
     ]
    }
   ],
   "source": [
    "umur = int(input(\"masukkan umurlu: \"))\n",
    "\n",
    "if umur >= 20:\n",
    "  print(\"kamu sudah cukup umur\")\n",
    "else :\n",
    "  print(\"lu belum cukup umur\")"
   ]
  },
  {
   "cell_type": "code",
   "execution_count": 4,
   "id": "c33cf1ec",
   "metadata": {},
   "outputs": [
    {
     "name": "stdout",
     "output_type": "stream",
     "text": [
      "angka genap\n"
     ]
    }
   ],
   "source": [
    "angka = int(input(\"masukin angka: \"))\n",
    "if angka % 2 == 0:\n",
    "    print(\"angka genap\")\n",
    "else:\n",
    "    print(\"angka ganjil\")"
   ]
  },
  {
   "cell_type": "code",
   "execution_count": 7,
   "id": "9a438c13",
   "metadata": {},
   "outputs": [
    {
     "name": "stdout",
     "output_type": "stream",
     "text": [
      "merah\n"
     ]
    }
   ],
   "source": [
    "\n",
    "print (\"merah\")\n",
    "\n"
   ]
  }
 ],
 "metadata": {
  "kernelspec": {
   "display_name": "Python 3",
   "language": "python",
   "name": "python3"
  },
  "language_info": {
   "codemirror_mode": {
    "name": "ipython",
    "version": 3
   },
   "file_extension": ".py",
   "mimetype": "text/x-python",
   "name": "python",
   "nbconvert_exporter": "python",
   "pygments_lexer": "ipython3",
   "version": "3.10.12"
  }
 },
 "nbformat": 4,
 "nbformat_minor": 5
}
